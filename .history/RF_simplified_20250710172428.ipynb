{
 "cells": [
  {
   "cell_type": "code",
   "execution_count": 1,
   "metadata": {},
   "outputs": [],
   "source": [
    "# 数据处理和分析库\n",
    "import pandas as pd\n",
    "import numpy as np\n",
    "\n",
    "# 机器学习相关库\n",
    "from sklearn.model_selection import KFold  # K折交叉验证\n",
    "from sklearn.utils import shuffle  # 数据随机打乱\n",
    "from sklearn.ensemble import RandomForestClassifier  # 随机森林分类器\n",
    "from sklearn.model_selection import train_test_split  # 训练测试集分割"
   ]
  },
  {
   "cell_type": "code",
   "execution_count": null,
   "metadata": {},
   "outputs": [],
   "source": [
    "# 数据集样本数量配置\n",
    "# ⚠️ 重要：如果使用新的特征文件，请更新这些数量以匹配实际样本数\n",
    "DS1_BENIGN_SAMPLES_CNT = 2939    # 数据集1中良性样本数量\n",
    "DS1_MAL_SAMPLES_CNT = 13734      # 数据集1中恶意样本数量\n",
    "DS2_MAL_SAMPLES_CNT = 2884       # 数据集2中恶意样本数量（用于测试）\n",
    "\n",
    "# 数据集文件路径配置\n",
    "# 💡 提示：如果使用了上面的特征提取代码，请更新为新生成的文件路径\n",
    "Dataset1_path = '/Users/wenzhuolin/workspace/macro_fc-main/ds1.xls'  # 训练数据集路径\n",
    "Dataset2_path = '/Users/wenzhuolin/workspace/macro_fc-main/ds2.xls'  # 测试数据集路径\n",
    "\n",
    "# 如果使用新提取的特征文件，请取消注释并修改以下路径：\n",
    "# Dataset1_path = 'ds1_new.xlsx'  # 新的训练特征文件\n",
    "# Dataset2_path = 'ds2_new.xlsx'  # 新的测试特征文件\n",
    "\n",
    "# 加载数据集\n",
    "print(f\"📁 加载训练数据集: {Dataset1_path}\")\n",
    "dataset1 = pd.read_excel(Dataset1_path)\n",
    "print(f\"📁 加载测试数据集: {Dataset2_path}\")\n",
    "dataset2 = pd.read_excel(Dataset2_path)\n",
    "\n",
    "# 验证数据集结构\n",
    "print(f\"\\n📊 数据集信息:\")\n",
    "print(f\"  训练集形状: {dataset1.shape} (应为 {DS1_BENIGN_SAMPLES_CNT + DS1_MAL_SAMPLES_CNT} × 124)\")\n",
    "print(f\"  测试集形状: {dataset2.shape} (应为 {DS2_MAL_SAMPLES_CNT} × 124)\")\n",
    "print(f\"  特征列数: {len(dataset1.columns)} (应为124列: 文件名 + 77混淆特征 + 46可疑特征)\")\n",
    "\n",
    "# 交叉验证配置\n",
    "K_FOLD = 5  # 使用5折交叉验证\n",
    "print(f\"\\n🔄 交叉验证配置: {K_FOLD}折\")"
   ]
  },
  {
   "cell_type": "markdown",
   "metadata": {},
   "source": [
    "## 随机森林交叉验证函数\n",
    "\n",
    "定义一个函数来执行K折交叉验证，评估随机森林模型的性能。\n",
    "\n",
    "### 函数功能：\n",
    "- 使用K折交叉验证训练和测试随机森林模型\n",
    "- 计算每折的准确率、精确率、召回率和误报率\n",
    "- 返回所有折的性能指标列表"
   ]
  },
  {
   "cell_type": "code",
   "execution_count": 3,
   "metadata": {},
   "outputs": [],
   "source": [
    "def model_RF_cross_valid(XX, yy, rawfilenamelist, random_state=42):\n",
    "    \"\"\"\n",
    "    随机森林K折交叉验证函数\n",
    "    \n",
    "    参数:\n",
    "        XX: 特征矩阵\n",
    "        yy: 标签向量 (0=良性, 1=恶意)\n",
    "        rawfilenamelist: 文件名列表\n",
    "        random_state: 随机种子，确保结果可重现\n",
    "    \n",
    "    返回:\n",
    "        tuple: (精确率列表, 召回率列表, 准确率列表, 误报率列表)\n",
    "    \"\"\"\n",
    "    # 随机打乱数据，保持特征、标签、文件名的对应关系\n",
    "    X, y, filenamelist = shuffle(XX, yy, rawfilenamelist, random_state=random_state)\n",
    "    \n",
    "    # 初始化随机森林分类器（使用默认参数）\n",
    "    rf = RandomForestClassifier()\n",
    "    \n",
    "    # 创建K折交叉验证对象\n",
    "    kf = KFold(n_splits=K_FOLD)\n",
    "    \n",
    "    # 初始化性能指标列表\n",
    "    accuracy_list = []   # 准确率列表\n",
    "    precesion_list = []  # 精确率列表\n",
    "    recall_list = []     # 召回率列表\n",
    "    fp_list = []         # 误报率列表\n",
    "    \n",
    "    # 执行K折交叉验证\n",
    "    for train_index, test_index in kf.split(X):\n",
    "        # 分割训练集和测试集\n",
    "        X_train, X_test = X[train_index], X[test_index]\n",
    "        y_train, y_test = y[train_index], y[test_index]\n",
    "        \n",
    "        # 训练随机森林模型\n",
    "        rf.fit(X_train, y_train)\n",
    "        \n",
    "        # 预测测试集\n",
    "        y_test_predict = rf.predict(X_test)\n",
    "\n",
    "        # 初始化混淆矩阵计数器\n",
    "        tp_cnt = 0  # True Positive: 正确识别的恶意样本\n",
    "        fp_cnt = 0  # False Positive: 误报的良性样本\n",
    "        tn_cnt = 0  # True Negative: 正确识别的良性样本\n",
    "        fn_cnt = 0  # False Negative: 漏报的恶意样本\n",
    "        \n",
    "        # 计算混淆矩阵\n",
    "        for i in range(len(test_index)):\n",
    "            if y_test[i] == 0:  # 真实标签为良性\n",
    "                if y_test_predict[i] > 0.5:  # 预测为恶意\n",
    "                    fp_cnt = fp_cnt + 1  # 误报\n",
    "                else:  # 预测为良性\n",
    "                    tn_cnt = tn_cnt + 1  # 正确识别良性\n",
    "            elif y_test[i] == 1:  # 真实标签为恶意\n",
    "                if y_test_predict[i] > 0.5:  # 预测为恶意\n",
    "                    tp_cnt = tp_cnt + 1  # 正确识别恶意\n",
    "                else:  # 预测为良性\n",
    "                    fn_cnt = fn_cnt + 1  # 漏报\n",
    "            else:\n",
    "                print('Error label %f' %y_test[i])  # 错误标签警告\n",
    "        \n",
    "        # 计算性能指标\n",
    "        accuracy = 1.0 * (tp_cnt + tn_cnt)/(tp_cnt + tn_cnt + fp_cnt + fn_cnt)  # 准确率\n",
    "        precesion = 1.0 * tp_cnt / (tp_cnt + fp_cnt)  # 精确率\n",
    "        recall = 1.0 * tp_cnt / (tp_cnt + fn_cnt)     # 召回率\n",
    "        fp = 1.0 * fp_cnt / (tn_cnt + fp_cnt)         # 误报率\n",
    "        \n",
    "        # 保存当前折的性能指标\n",
    "        accuracy_list.append(accuracy)\n",
    "        precesion_list.append(precesion)\n",
    "        recall_list.append(recall)\n",
    "        fp_list.append(fp)\n",
    "    \n",
    "    return precesion_list, recall_list, accuracy_list, fp_list"
   ]
  },
  {
   "cell_type": "markdown",
   "metadata": {},
   "source": [
    "## 数据集1的交叉验证实验\n",
    "\n",
    "使用数据集1进行K折交叉验证，测试组合特征的检测效果。\n",
    "\n",
    "### 特征说明：\n",
    "- 第0列：文件名\n",
    "- 第1-77列：混淆特征（如行长度、括号数量、过程数量等）\n",
    "- 第78-123列：可疑特征（如Shell、CreateObject、Chr等API调用）\n",
    "- **组合特征** (列1-123): 使用所有特征进行检测"
   ]
  },
  {
   "cell_type": "code",
   "execution_count": 4,
   "metadata": {},
   "outputs": [
    {
     "name": "stdout",
     "output_type": "stream",
     "text": [
      "-----------Dataset1 Cross Validation-----------\n",
      "\n",
      "=== 组合特征交叉验证 ===\n",
      "Detection result with combined features:\n",
      "precesion:0.996578, recall:0.996580, accuracy:0.994362, fp:0.015993\n"
     ]
    }
   ],
   "source": [
    "print(\"-----------Dataset1 Cross Validation-----------\")    \n",
    "\n",
    "# 使用组合特征进行交叉验证\n",
    "print(\"\\n=== 组合特征交叉验证 ===\")\n",
    "# 创建标签：前DS1_BENIGN_SAMPLES_CNT个为良性(0)，后DS1_MAL_SAMPLES_CNT个为恶意(1)\n",
    "labels = [0] * DS1_BENIGN_SAMPLES_CNT + [1] * DS1_MAL_SAMPLES_CNT\n",
    "# 提取所有特征 (第1-123列)\n",
    "XX = dataset1.iloc[:, 1:124].values\n",
    "yy = np.array(labels)\n",
    "rawfilenamelist = dataset1.iloc[:, 0].values  # 文件名列表\n",
    "\n",
    "# 执行K折交叉验证\n",
    "precesion, recall, accuracy, fp = model_RF_cross_valid(XX, yy, rawfilenamelist)\n",
    "print('Detection result with combined features:')\n",
    "print('precesion:%f, recall:%f, accuracy:%f, fp:%f' %(np.average(precesion), np.average(recall), np.average(accuracy), np.average(fp)))"
   ]
  },
  {
   "cell_type": "markdown",
   "metadata": {},
   "source": [
    "## 数据集2的独立测试\n",
    "\n",
    "使用数据集1训练模型，在数据集2上进行独立测试。\n",
    "数据集2包含2884个恶意样本，用于验证模型的泛化能力。"
   ]
  },
  {
   "cell_type": "code",
   "execution_count": 5,
   "metadata": {},
   "outputs": [],
   "source": [
    "# 提取数据集2的文件名列表，用于后续分析\n",
    "testfilenamelist = dataset2.iloc[:, 0].values"
   ]
  },
  {
   "cell_type": "markdown",
   "metadata": {},
   "source": [
    "### 组合特征在数据集2上的独立测试"
   ]
  },
  {
   "cell_type": "code",
   "execution_count": 6,
   "metadata": {},
   "outputs": [
    {
     "name": "stdout",
     "output_type": "stream",
     "text": [
      "-----------Dataset2 Independent Test-----------\n",
      "\n",
      "=== 组合特征在数据集2上的测试 ===\n",
      "Detection Rate with combined features:0.956326\n",
      "检测到恶意样本: 2759/2885\n"
     ]
    }
   ],
   "source": [
    "print(\"-----------Dataset2 Independent Test-----------\")    \n",
    "\n",
    "# 使用组合特征进行独立测试\n",
    "print(\"\\n=== 组合特征在数据集2上的测试 ===\")\n",
    "# 使用数据集1的标签和所有特征训练模型\n",
    "labels = [0] * DS1_BENIGN_SAMPLES_CNT + [1] * DS1_MAL_SAMPLES_CNT\n",
    "XX = dataset1.iloc[:, 1:124].values  # 训练集所有特征\n",
    "yy = np.array(labels)\n",
    "test_X = dataset2.iloc[:, 1:124].values  # 测试集所有特征\n",
    "\n",
    "# 训练随机森林模型\n",
    "rf = RandomForestClassifier()\n",
    "rf.fit(XX, yy)\n",
    "\n",
    "# 在数据集2上进行预测\n",
    "y_test_predict = rf.predict(test_X)\n",
    "\n",
    "# 计算检测率 (Detection Rate)\n",
    "# 由于数据集2全部为恶意样本，检测率 = 被正确识别为恶意的样本数 / 总样本数\n",
    "DR = 1.0 * np.sum(y_test_predict) / len(y_test_predict)\n",
    "print('Detection Rate with combined features:%f' %DR)\n",
    "print(f'检测到恶意样本: {np.sum(y_test_predict)}/{len(y_test_predict)}')"
   ]
  },
  {
   "cell_type": "markdown",
   "metadata": {},
   "source": [
    "### 分析未检测到的样本\n",
    "\n",
    "打印出在组合特征测试中被误判为良性的恶意样本文件名。\n",
    "这些样本可能具有与良性文件相似的特征组合。"
   ]
  },
  {
   "cell_type": "code",
   "execution_count": null,
   "metadata": {},
   "outputs": [],
   "source": [
    "# 打印在组合特征测试中被误判为良性的恶意样本文件名\n",
    "print(f\"\\n组合特征测试中未检测到的恶意样本 (预测概率 < 0.5):\")\n",
    "undetected_count = 0\n",
    "for i in range(len(y_test_predict)):\n",
    "    if y_test_predict[i] < 0.5:  # 预测为良性的样本\n",
    "        print(f\"[{i}]{testfilenamelist[i]}\")\n",
    "        undetected_count += 1\n",
    "\n",
    "print(f\"\\n总计未检测到: {undetected_count}/{len(y_test_predict)} 个恶意样本\")\n",
    "print(f\"漏报率: {undetected_count/len(y_test_predict)*100:.2f}%\")"
   ]
  },
  {
   "cell_type": "code",
   "execution_count": 8,
   "metadata": {},
   "outputs": [
    {
     "data": {
      "text/plain": [
       "'Source.gv.pdf'"
      ]
     },
     "execution_count": 8,
     "metadata": {},
     "output_type": "execute_result"
    }
   ],
   "source": [
    "# 导入可视化相关库\n",
    "import matplotlib  \n",
    "import matplotlib.pyplot as plt  \n",
    "from sklearn.tree import export_graphviz  # 决策树导出工具\n",
    "import graphviz  # 图形可视化库\n",
    "  \n",
    "# 导出随机森林中第一棵决策树的结构\n",
    "dot_data = export_graphviz(\n",
    "    rf.estimators_[0],  # 随机森林中的第一棵树\n",
    "    out_file=None,   \n",
    "    feature_names=dataset1.columns[1:124],  # 使用所有特征的列名（组合特征）\n",
    "    class_names=['Benign', 'Malicious'],   # 类别名称 (注意：0=良性, 1=恶意)\n",
    "    filled=True,        # 填充颜色\n",
    "    rounded=True,       # 圆角矩形\n",
    "    special_characters=True  # 支持特殊字符\n",
    ")    \n",
    "\n",
    "# 创建图形对象并显示\n",
    "graph = graphviz.Source(dot_data)    \n",
    "graph.view()  # 生成PDF文件并打开"
   ]
  },
  {
   "cell_type": "code",
   "execution_count": null,
   "metadata": {},
   "outputs": [],
   "source": [
    "# 特征重要性分析\n",
    "print(\"\\n=== 特征重要性分析 ===\")\n",
    "\n",
    "# 获取特征重要性\n",
    "importances = rf.feature_importances_\n",
    "feature_names = dataset1.columns[1:124]\n",
    "\n",
    "# 创建特征重要性数据框\n",
    "import pandas as pd\n",
    "feature_importance_df = pd.DataFrame({\n",
    "    'Feature': feature_names,\n",
    "    'Importance': importances\n",
    "})\n",
    "\n",
    "# 按重要性排序\n",
    "feature_importance_df = feature_importance_df.sort_values('Importance', ascending=False)\n",
    "\n",
    "# 显示前20个最重要的特征\n",
    "print(\"Top 20 Most Important Features:\")\n",
    "print(feature_importance_df.head(20))\n",
    "\n",
    "# 可视化特征重要性\n",
    "import matplotlib.pyplot as plt\n",
    "plt.figure(figsize=(10, 8))\n",
    "plt.barh(feature_importance_df['Feature'][:20], feature_importance_df['Importance'][:20])\n",
    "plt.xlabel('Importance')\n",
    "plt.ylabel('Feature')\n",
    "plt.title('Top 20 Feature Importance')\n",
    "plt.gca().invert_yaxis()  # 从上到下按重要性降序显示\n",
    "plt.tight_layout()\n",
    "plt.show()"
   ]
  },
  {
   "cell_type": "markdown",
   "metadata": {},
   "source": [
    "## Permutation Importance 分析\n",
    "\n",
    "Permutation Importance 通过随机打乱每个特征的值来测量特征对模型预测的影响。\n",
    "这种方法比内置的 feature_importances_ 更可靠，因为它直接测量特征对模型性能的贡献。"
   ]
  },
  {
   "cell_type": "code",
   "execution_count": 10,
   "metadata": {},
   "outputs": [
    {
     "name": "stdout",
     "output_type": "stream",
     "text": [
      "\n",
      "=== Permutation Importance 分析 ===\n",
      "使用 500 个测试样本进行 Permutation Importance 分析...\n",
      "计算完成，耗时: 6.49 秒\n",
      "\n",
      "Top 30 Features by Permutation Importance:\n",
      "                      Feature  Importance_Mean  Importance_Std\n",
      "91              Document_Open           0.0654        0.006391\n",
      "79                  GetObject           0.0262        0.002600\n",
      "77                      Shell           0.0212        0.002227\n",
      "88                        Lib           0.0164        0.003072\n",
      "78               CreateObject           0.0162        0.004045\n",
      "98                   AutoOpen           0.0142        0.003945\n",
      "7        PROCEDURE_CONCAT_CNT           0.0078        0.004771\n",
      "12                        Asc           0.0072        0.000980\n",
      "9           PROCEDURE_OPS_CNT           0.0068        0.003816\n",
      "99                       Open           0.0060        0.002530\n",
      "80                       .Run           0.0052        0.001600\n",
      "15                        Chr           0.0046        0.001562\n",
      "4                LINE_OPS_CNT           0.0036        0.002498\n",
      "18                        Mid           0.0036        0.001497\n",
      "10        PROCEDURE_EQUAL_CNT           0.0032        0.002857\n",
      "3             LINE_CONCAT_CNT           0.0028        0.002227\n",
      "121                   cmd.exe           0.0020        0.000000\n",
      "5         LINE_PARENTHESE_CNT           0.0020        0.002683\n",
      "73                     UBound           0.0016        0.000800\n",
      "83                       Kill           0.0014        0.000917\n",
      "8    PROCEDURE_PARENTHESE_CNT           0.0014        0.002010\n",
      "102            Document_Close           0.0012        0.000980\n",
      "66                       Left           0.0008        0.000980\n",
      "1           LINE_CNT_SUM_PROC           0.0008        0.002227\n",
      "84               .StartupPath           0.0006        0.001281\n",
      "92                  Auto_Open           0.0006        0.001562\n",
      "6                LINE_STR_CNT           0.0006        0.001281\n",
      "36                        Rnd           0.0004        0.000800\n",
      "89                     System           0.0004        0.000800\n",
      "103                    Output           0.0004        0.000800\n"
     ]
    },
    {
     "data": {
      "image/png": "[encoded data removed]",
      "text/plain": [
       "<Figure size 1200x1000 with 1 Axes>"
      ]
     },
     "metadata": {},
     "output_type": "display_data"
    },
    {
     "name": "stdout",
     "output_type": "stream",
     "text": [
      "\n",
      "=== 两种重要性方法对比 ===\n",
      "两种重要性方法的 Spearman 相关系数: 0.2505 (p-value: 0.0052)\n",
      "\n",
      "Top 10 Features Comparison:\n",
      "                 Feature  Built_in_Importance  Permutation_Importance\n",
      "13         Document_Open             0.027607                  0.0654\n",
      "17             GetObject             0.011834                  0.0262\n",
      "4                  Shell             0.064772                  0.0212\n",
      "20                   Lib             0.005484                  0.0164\n",
      "10          CreateObject             0.032962                  0.0162\n",
      "8               AutoOpen             0.047915                  0.0142\n",
      "2   PROCEDURE_CONCAT_CNT             0.083245                  0.0078\n",
      "41                   Asc             0.001834                  0.0072\n",
      "0      PROCEDURE_OPS_CNT             0.088572                  0.0068\n",
      "16                  Open             0.012098                  0.0060\n"
     ]
    }
   ],
   "source": [
    "# Permutation Importance 分析\n",
    "print(\"\\n=== Permutation Importance 分析 ===\")\n",
    "\n",
    "from sklearn.inspection import permutation_importance\n",
    "import time\n",
    "\n",
    "# 使用测试集的一个子集进行分析（加快计算速度）\n",
    "sample_size = min(500, len(test_X))\n",
    "test_X_sample = test_X[:sample_size]\n",
    "test_y_sample = [1] * sample_size  # 测试集全部为恶意样本\n",
    "\n",
    "print(f\"使用 {sample_size} 个测试样本进行 Permutation Importance 分析...\")\n",
    "start_time = time.time()\n",
    "\n",
    "# 计算 Permutation Importance\n",
    "perm_importance = permutation_importance(\n",
    "    rf, test_X_sample, test_y_sample, \n",
    "    n_repeats=10,  # 重复次数\n",
    "    random_state=42,\n",
    "    scoring='accuracy'\n",
    ")\n",
    "\n",
    "end_time = time.time()\n",
    "print(f\"计算完成，耗时: {end_time - start_time:.2f} 秒\")\n",
    "\n",
    "# 创建 Permutation Importance 数据框\n",
    "perm_importance_df = pd.DataFrame({\n",
    "    'Feature': feature_names,\n",
    "    'Importance_Mean': perm_importance.importances_mean,\n",
    "    'Importance_Std': perm_importance.importances_std\n",
    "})\n",
    "\n",
    "# 按重要性排序\n",
    "perm_importance_df = perm_importance_df.sort_values('Importance_Mean', ascending=False)\n",
    "\n",
    "# 显示前30个最重要的特征\n",
    "print(\"\\nTop 30 Features by Permutation Importance:\")\n",
    "print(perm_importance_df.head(30))\n",
    "\n",
    "# 可视化 Permutation Importance\n",
    "plt.figure(figsize=(12, 10))\n",
    "top_features = perm_importance_df.head(20)\n",
    "plt.barh(top_features['Feature'], top_features['Importance_Mean'], \n",
    "         xerr=top_features['Importance_Std'], capsize=3)\n",
    "plt.xlabel('Permutation Importance')\n",
    "plt.ylabel('Feature')\n",
    "plt.title('Top 20 Features by Permutation Importance')\n",
    "plt.gca().invert_yaxis()\n",
    "plt.tight_layout()\n",
    "plt.show()\n",
    "\n",
    "# 比较两种重要性方法\n",
    "print(\"\\n=== 两种重要性方法对比 ===\")\n",
    "comparison_df = pd.merge(\n",
    "    feature_importance_df[['Feature', 'Importance']].rename(columns={'Importance': 'Built_in_Importance'}),\n",
    "    perm_importance_df[['Feature', 'Importance_Mean']].rename(columns={'Importance_Mean': 'Permutation_Importance'}),\n",
    "    on='Feature'\n",
    ")\n",
    "\n",
    "# 计算排名相关性\n",
    "from scipy.stats import spearmanr\n",
    "correlation, p_value = spearmanr(comparison_df['Built_in_Importance'], comparison_df['Permutation_Importance'])\n",
    "print(f\"两种重要性方法的 Spearman 相关系数: {correlation:.4f} (p-value: {p_value:.4f})\")\n",
    "\n",
    "# 显示前10个特征的对比\n",
    "print(\"\\nTop 10 Features Comparison:\")\n",
    "print(comparison_df.sort_values('Permutation_Importance', ascending=False).head(10))"
   ]
  },
  {
   "cell_type": "markdown",
   "metadata": {},
   "source": [
    "### Permutation Importance 解释\n",
    "\n",
    "**计算原理:**\n",
    "1. 记录模型在原始数据上的基准性能\n",
    "2. 对每个特征，随机打乱该特征的值\n",
    "3. 计算打乱后模型性能的下降程度\n",
    "4. 性能下降越大，说明该特征越重要\n",
    "\n",
    "**优势:**\n",
    "- 模型无关：适用于任何机器学习模型\n",
    "- 直观：直接测量特征对预测性能的影响\n",
    "- 可靠：不受模型内部偏差影响\n",
    "\n",
    "**与内置重要性的区别:**\n",
    "- 内置重要性基于训练过程中的信息增益\n",
    "- Permutation Importance 基于实际预测性能\n",
    "- 两者结合使用可以更全面地理解特征重要性"
   ]
  }
 ],
 "metadata": {
  "kernelspec": {
   "display_name": "MAGIC",
   "language": "python",
   "name": "python3"
  },
  "language_info": {
   "codemirror_mode": {
    "name": "ipython",
    "version": 3
   },
   "file_extension": ".py",
   "mimetype": "text/x-python",
   "name": "python",
   "nbconvert_exporter": "python",
   "pygments_lexer": "ipython3",
   "version": "3.8.18"
  }
 },
 "nbformat": 4,
 "nbformat_minor": 4
}
