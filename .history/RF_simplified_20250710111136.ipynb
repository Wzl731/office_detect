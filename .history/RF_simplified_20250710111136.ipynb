{
 "cells": [
  {
   "cell_type": "markdown",
   "metadata": {},
   "source": [
    "# 恶意软件检测 - 随机森林分类器（组合特征版）\n",
    "\n",
    "本notebook使用随机森林算法和组合特征对恶意软件进行检测和分类。\n",
    "\n",
    "## 导入必要的库"
   ]
  },
  {
   "cell_type": "code",
   "execution_count": 1,
   "metadata": {},
   "outputs": [],
   "source": [
    "# 数据处理和分析库\n",
    "import pandas as pd\n",
    "import numpy as np\n",
    "\n",
    "# 机器学习相关库\n",
    "from sklearn.model_selection import KFold  # K折交叉验证\n",
    "from sklearn.utils import shuffle  # 数据随机打乱\n",
    "from sklearn.ensemble import RandomForestClassifier  # 随机森林分类器\n",
    "from sklearn.model_selection import train_test_split  # 训练测试集分割"
   ]
  },
  {
   "cell_type": "markdown",
   "metadata": {},
   "source": [
    "## 数据集配置和加载\n",
    "\n",
    "定义数据集的基本信息和加载数据文件。"
   ]
  },
  {
   "cell_type": "code",
   "execution_count": 2,
   "metadata": {},
   "outputs": [],
   "source": [
    "# 数据集样本数量配置\n",
    "DS1_BENIGN_SAMPLES_CNT = 2939    # 数据集1中良性样本数量\n",
    "DS1_MAL_SAMPLES_CNT = 13734      # 数据集1中恶意样本数量\n",
    "DS2_MAL_SAMPLES_CNT = 2884       # 数据集2中恶意样本数量（用于测试）\n",
    "\n",
    "# 数据集文件名\n",
    "Dataset1_name = 'ds1.xls'        # 训练数据集\n",
    "Dataset2_name = 'ds2.xls'        # 测试数据集\n",
    "\n",
    "# 加载数据集\n",
    "# dataset1: 包含良性和恶意样本的训练数据集\n",
    "dataset1 = pd.read_excel('/home/cx/proj/macro_analysis/dataset/ds1.xls')\n",
    "# dataset2: 仅包含恶意样本的测试数据集\n",
    "dataset2 = pd.read_excel('/home/cx/proj/macro_analysis/dataset/ds2.xls')\n",
    "\n",
    "# 交叉验证配置\n",
    "K_FOLD = 5  # 使用5折交叉验证"
   ]
  },
  {
   "cell_type": "markdown",
   "metadata": {},
   "source": [
    "## 随机森林交叉验证函数\n",
    "\n",
    "定义一个函数来执行K折交叉验证，评估随机森林模型的性能。\n",
    "\n",
    "### 函数功能：\n",
    "- 使用K折交叉验证训练和测试随机森林模型\n",
    "- 计算每折的准确率、精确率、召回率和误报率\n",
    "- 返回所有折的性能指标列表"
   ]
  },
  {
   "cell_type": "code",
   "execution_count": 3,
   "metadata": {},
   "outputs": [],
   "source": [
    "def model_RF_cross_valid(XX, yy, rawfilenamelist, random_state=42):\n",
    "    \"\"\"\n",
    "    随机森林K折交叉验证函数\n",
    "    \n",
    "    参数:\n",
    "        XX: 特征矩阵\n",
    "        yy: 标签向量 (0=良性, 1=恶意)\n",
    "        rawfilenamelist: 文件名列表\n",
    "        random_state: 随机种子，确保结果可重现\n",
    "    \n",
    "    返回:\n",
    "        tuple: (精确率列表, 召回率列表, 准确率列表, 误报率列表)\n",
    "    \"\"\"\n",
    "    # 随机打乱数据，保持特征、标签、文件名的对应关系\n",
    "    X, y, filenamelist = shuffle(XX, yy, rawfilenamelist, random_state=random_state)\n",
    "    \n",
    "    # 初始化随机森林分类器（使用默认参数）\n",
    "    rf = RandomForestClassifier()\n",
    "    \n",
    "    # 创建K折交叉验证对象\n",
    "    kf = KFold(n_splits=K_FOLD)\n",
    "    \n",
    "    # 初始化性能指标列表\n",
    "    accuracy_list = []   # 准确率列表\n",
    "    precesion_list = []  # 精确率列表\n",
    "    recall_list = []     # 召回率列表\n",
    "    fp_list = []         # 误报率列表\n",
    "    \n",
    "    # 执行K折交叉验证\n",
    "    for train_index, test_index in kf.split(X):\n",
    "        # 分割训练集和测试集\n",
    "        X_train, X_test = X[train_index], X[test_index]\n",
    "        y_train, y_test = y[train_index], y[test_index]\n",
    "        \n",
    "        # 训练随机森林模型\n",
    "        rf.fit(X_train, y_train)\n",
    "        \n",
    "        # 预测测试集\n",
    "        y_test_predict = rf.predict(X_test)\n",
    "\n",
    "        # 初始化混淆矩阵计数器\n",
    "        tp_cnt = 0  # True Positive: 正确识别的恶意样本\n",
    "        fp_cnt = 0  # False Positive: 误报的良性样本\n",
    "        tn_cnt = 0  # True Negative: 正确识别的良性样本\n",
    "        fn_cnt = 0  # False Negative: 漏报的恶意样本\n",
    "        \n",
    "        # 计算混淆矩阵\n",
    "        for i in range(len(test_index)):\n",
    "            if y_test[i] == 0:  # 真实标签为良性\n",
    "                if y_test_predict[i] > 0.5:  # 预测为恶意\n",
    "                    fp_cnt = fp_cnt + 1  # 误报\n",
    "                else:  # 预测为良性\n",
    "                    tn_cnt = tn_cnt + 1  # 正确识别良性\n",
    "            elif y_test[i] == 1:  # 真实标签为恶意\n",
    "                if y_test_predict[i] > 0.5:  # 预测为恶意\n",
    "                    tp_cnt = tp_cnt + 1  # 正确识别恶意\n",
    "                else:  # 预测为良性\n",
    "                    fn_cnt = fn_cnt + 1  # 漏报\n",
    "            else:\n",
    "                print('Error label %f' %y_test[i])  # 错误标签警告\n",
    "        \n",
    "        # 计算性能指标\n",
    "        accuracy = 1.0 * (tp_cnt + tn_cnt)/(tp_cnt + tn_cnt + fp_cnt + fn_cnt)  # 准确率\n",
    "        precesion = 1.0 * tp_cnt / (tp_cnt + fp_cnt)  # 精确率\n",
    "        recall = 1.0 * tp_cnt / (tp_cnt + fn_cnt)     # 召回率\n",
    "        fp = 1.0 * fp_cnt / (tn_cnt + fp_cnt)         # 误报率\n",
    "        \n",
    "        # 保存当前折的性能指标\n",
    "        accuracy_list.append(accuracy)\n",
    "        precesion_list.append(precesion)\n",
    "        recall_list.append(recall)\n",
    "        fp_list.append(fp)\n",
    "    \n",
    "    return precesion_list, recall_list, accuracy_list, fp_list"
   ]
  },
  {
   "cell_type": "markdown",
   "metadata": {},
   "source": [
    "## 数据集1的交叉验证实验\n",
    "\n",
    "使用数据集1进行K折交叉验证，测试组合特征的检测效果。\n",
    "\n",
    "### 特征说明：\n",
    "- 第0列：文件名\n",
    "- 第1-77列：混淆特征（如行长度、括号数量、过程数量等）\n",
    "- 第78-123列：可疑特征（如Shell、CreateObject、Chr等API调用）\n",
    "- **组合特征** (列1-123): 使用所有特征进行检测"
   ]
  },
  {
   "cell_type": "code",
   "execution_count": 4,
   "metadata": {},
   "outputs": [],
   "source": [
    "print(\"-----------Dataset1 Cross Validation-----------\")    \n",
    "\n",
    "# 使用组合特征进行交叉验证\n",
    "print(\"\\n=== 组合特征交叉验证 ===\")\n",
    "# 创建标签：前DS1_BENIGN_SAMPLES_CNT个为良性(0)，后DS1_MAL_SAMPLES_CNT个为恶意(1)\n",
    "labels = [0] * DS1_BENIGN_SAMPLES_CNT + [1] * DS1_MAL_SAMPLES_CNT\n",
    "# 提取所有特征 (第1-123列)\n",
    "XX = dataset1.iloc[:, 1:124].values\n",
    "yy = np.array(labels)\n",
    "rawfilenamelist = dataset1.iloc[:, 0].values  # 文件名列表\n",
    "\n",
    "# 执行K折交叉验证\n",
    "precesion, recall, accuracy, fp = model_RF_cross_valid(XX, yy, rawfilenamelist)\n",
    "print('Detection result with combined features:')\n",
    "print('precesion:%f, recall:%f, accuracy:%f, fp:%f' %(np.average(precesion), np.average(recall), np.average(accuracy), np.average(fp)))"
   ]
  }
 ],
 "metadata": {
  "kernelspec": {
   "display_name": "Python 3",
   "language": "python",
   "name": "python3"
  },
  "language_info": {
   "codemirror_mode": {
    "name": "ipython",
    "version": 3
   },
   "file_extension": ".py",
   "mimetype": "text/x-python",
   "name": "python",
   "nbconvert_exporter": "python",
   "pygments_lexer": "ipython3",
   "version": "3.8.5"
  }
 },
 "nbformat": 4,
 "nbformat_minor": 4
}
