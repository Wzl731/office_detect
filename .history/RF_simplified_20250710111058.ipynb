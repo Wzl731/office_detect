{
 "cells": [
  {
   "cell_type": "markdown",
   "metadata": {},
   "source": [
    "# 恶意软件检测 - 随机森林分类器（组合特征版）\n",
    "\n",
    "本notebook使用随机森林算法和组合特征对恶意软件进行检测和分类。\n",
    "\n",
    "## 导入必要的库"
   ]
  },
  {
   "cell_type": "code",
   "execution_count": 1,
   "metadata": {},
   "outputs": [],
   "source": [
    "# 数据处理和分析库\n",
    "import pandas as pd\n",
    "import numpy as np\n",
    "\n",
    "# 机器学习相关库\n",
    "from sklearn.model_selection import KFold  # K折交叉验证\n",
    "from sklearn.utils import shuffle  # 数据随机打乱\n",
    "from sklearn.ensemble import RandomForestClassifier  # 随机森林分类器\n",
    "from sklearn.model_selection import train_test_split  # 训练测试集分割"
   ]
  },
  {
   "cell_type": "markdown",
   "metadata": {},
   "source": [
    "## 数据集配置和加载\n",
    "\n",
    "定义数据集的基本信息和加载数据文件。"
   ]
  },
  {
   "cell_type": "code",
   "execution_count": 2,
   "metadata": {},
   "outputs": [],
   "source": [
    "# 数据集样本数量配置\n",
    "DS1_BENIGN_SAMPLES_CNT = 2939    # 数据集1中良性样本数量\n",
    "DS1_MAL_SAMPLES_CNT = 13734      # 数据集1中恶意样本数量\n",
    "DS2_MAL_SAMPLES_CNT = 2884       # 数据集2中恶意样本数量（用于测试）\n",
    "\n",
    "# 数据集文件名\n",
    "Dataset1_name = 'ds1.xls'        # 训练数据集\n",
    "Dataset2_name = 'ds2.xls'        # 测试数据集\n",
    "\n",
    "# 加载数据集\n",
    "# dataset1: 包含良性和恶意样本的训练数据集\n",
    "dataset1 = pd.read_excel('/home/cx/proj/macro_analysis/dataset/ds1.xls')\n",
    "# dataset2: 仅包含恶意样本的测试数据集\n",
    "dataset2 = pd.read_excel('/home/cx/proj/macro_analysis/dataset/ds2.xls')\n",
    "\n",
    "# 交叉验证配置\n",
    "K_FOLD = 5  # 使用5折交叉验证"
   ]
  },
  {
   "cell_type": "markdown",
   "metadata": {},
   "source": [
    "## 随机森林交叉验证函数\n",
    "\n",
    "定义一个函数来执行K折交叉验证，评估随机森林模型的性能。\n",
    "\n",
    "### 函数功能：\n",
    "- 使用K折交叉验证训练和测试随机森林模型\n",
    "- 计算每折的准确率、精确率、召回率和误报率\n",
    "- 返回所有折的性能指标列表"
   ]
  }
 ],
 "metadata": {
  "kernelspec": {
   "display_name": "Python 3",
   "language": "python",
   "name": "python3"
  },
  "language_info": {
   "codemirror_mode": {
    "name": "ipython",
    "version": 3
   },
   "file_extension": ".py",
   "mimetype": "text/x-python",
   "name": "python",
   "nbconvert_exporter": "python",
   "pygments_lexer": "ipython3",
   "version": "3.8.5"
  }
 },
 "nbformat": 4,
 "nbformat_minor": 4
}
